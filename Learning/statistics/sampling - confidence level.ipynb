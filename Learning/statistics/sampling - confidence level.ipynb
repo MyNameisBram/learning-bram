{
 "cells": [
  {
   "cell_type": "markdown",
   "metadata": {},
   "source": [
    "# Understanding sample size\n",
    "\n",
    "Understanding sample size is important in hypothesis testing. \n",
    "\n",
    "Test procedure, called `two-portion z-test`, is appropriate when the following conditions are met: \n",
    "- the sampling method for each population is simple random sampling\n",
    "- the samples are independent\n",
    "- each sample includes at least 10 successes and 10 failures\n",
    "- each population is at least 20 times as big as its sample\n",
    "\n",
    "This approach consists of four steps: \n",
    "1. state the hypothesis\n",
    "2. formulate an analysis plan\n",
    "3. analyze sample data\n",
    "4. interpret results\n",
    "\n"
   ]
  },
  {
   "cell_type": "code",
   "execution_count": null,
   "metadata": {},
   "outputs": [],
   "source": []
  }
 ],
 "metadata": {
  "kernelspec": {
   "display_name": "Python [conda env:bram-2021-env] *",
   "language": "python",
   "name": "conda-env-bram-2021-env-py"
  },
  "language_info": {
   "codemirror_mode": {
    "name": "ipython",
    "version": 3
   },
   "file_extension": ".py",
   "mimetype": "text/x-python",
   "name": "python",
   "nbconvert_exporter": "python",
   "pygments_lexer": "ipython3",
   "version": "3.6.9"
  }
 },
 "nbformat": 4,
 "nbformat_minor": 2
}
