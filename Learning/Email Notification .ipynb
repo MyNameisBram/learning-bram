{
 "cells": [
  {
   "cell_type": "markdown",
   "metadata": {},
   "source": [
    "# [Send Data Alert with Python SMTP](https://towardsdatascience.com/send-data-alert-with-python-smtp-efb9ee08077e)"
   ]
  },
  {
   "cell_type": "code",
   "execution_count": 1,
   "metadata": {
    "ExecuteTime": {
     "end_time": "2020-08-11T17:28:15.762503Z",
     "start_time": "2020-08-11T17:28:15.754780Z"
    }
   },
   "outputs": [],
   "source": [
    "import smtplib"
   ]
  },
  {
   "cell_type": "code",
   "execution_count": 2,
   "metadata": {
    "ExecuteTime": {
     "end_time": "2020-08-11T17:28:33.190819Z",
     "start_time": "2020-08-11T17:28:32.318894Z"
    }
   },
   "outputs": [],
   "source": [
    "import pandas \n",
    "import numpy as np "
   ]
  },
  {
   "cell_type": "code",
   "execution_count": 13,
   "metadata": {
    "ExecuteTime": {
     "end_time": "2020-08-11T17:37:01.713564Z",
     "start_time": "2020-08-11T17:37:01.710991Z"
    }
   },
   "outputs": [],
   "source": [
    "# email information \n",
    "gmail_user = 'abraham.tunggala.3'\n",
    "gmail_pass = 'Bram0319'"
   ]
  },
  {
   "cell_type": "code",
   "execution_count": 14,
   "metadata": {
    "ExecuteTime": {
     "end_time": "2020-08-11T17:37:07.828304Z",
     "start_time": "2020-08-11T17:37:07.825615Z"
    }
   },
   "outputs": [],
   "source": [
    "# email properties \n",
    "sent_from = gmail_user\n",
    "to = 'abraham.tunggala@capiopfw.com'\n",
    "subject = 'Code finsihed running'\n",
    "email_test = 'Code completion'\n"
   ]
  },
  {
   "cell_type": "code",
   "execution_count": 15,
   "metadata": {
    "ExecuteTime": {
     "end_time": "2020-08-11T17:37:09.254695Z",
     "start_time": "2020-08-11T17:37:08.735614Z"
    }
   },
   "outputs": [
    {
     "name": "stdout",
     "output_type": "stream",
     "text": [
      "(534, b'5.7.9 Application-specific password required. Learn more at\\n5.7.9  https://support.google.com/mail/?p=InvalidSecondFactor 33sm4180898ots.12 - gsmtp')\n",
      "Something went wrong...\n"
     ]
    }
   ],
   "source": [
    "# email send request \n",
    "try: \n",
    "    server = smtplib.SMTP_SSL('smtp.gmail.com', 465)\n",
    "    server.ehlo()\n",
    "    server.login(gmail_user, gmail_pass)\n",
    "    server.sendmail(sent_from, to, email_text)\n",
    "    server.close()\n",
    "    \n",
    "    print('Email sent!')\n",
    "except Exception as e: \n",
    "    print(e)\n",
    "    print('Something went wrong...')"
   ]
  },
  {
   "cell_type": "code",
   "execution_count": null,
   "metadata": {},
   "outputs": [],
   "source": []
  }
 ],
 "metadata": {
  "kernelspec": {
   "display_name": "Python 3",
   "language": "python",
   "name": "python3"
  },
  "language_info": {
   "codemirror_mode": {
    "name": "ipython",
    "version": 3
   },
   "file_extension": ".py",
   "mimetype": "text/x-python",
   "name": "python",
   "nbconvert_exporter": "python",
   "pygments_lexer": "ipython3",
   "version": "3.7.6"
  }
 },
 "nbformat": 4,
 "nbformat_minor": 4
}
