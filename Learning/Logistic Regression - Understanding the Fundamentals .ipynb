{
 "cells": [
  {
   "cell_type": "markdown",
   "metadata": {},
   "source": [
    "# [\"Logit\" of Logistic Regession; Understanding the Fundametnals](https://towardsdatascience.com/logit-of-logistic-regression-understanding-the-fundamentals-f384152a33d1)"
   ]
  },
  {
   "cell_type": "markdown",
   "metadata": {},
   "source": [
    "### Top differences between Linear and Logistic Regression\n",
    "1. Linear, the outcome is continuous, Logreg, outcome is discrete (not continuous). \n",
    "2. Linear, requires a linear relationship between the dependent and independent variables. Logreg, does not require linear relationship.\n",
    "3. Linear, is all about fitting a straight line in the data, Logreg, is about fitting a curve to the data\n",
    "4. Linear, is a regression algorithm for machine learning, Logreg is a classification algorithm for machine learning. \n",
    "5. Linear, assumes a gaussian (orn normal) distribution of dependent variable. Logreg, assumers binomial distribution of dependent variable. "
   ]
  },
  {
   "cell_type": "code",
   "execution_count": 1,
   "metadata": {
    "ExecuteTime": {
     "end_time": "2020-08-03T13:03:39.391141Z",
     "start_time": "2020-08-03T13:03:37.976981Z"
    }
   },
   "outputs": [],
   "source": [
    "import pandas as pd"
   ]
  },
  {
   "cell_type": "code",
   "execution_count": 13,
   "metadata": {
    "ExecuteTime": {
     "end_time": "2020-08-03T13:20:55.244462Z",
     "start_time": "2020-08-03T13:20:55.237334Z"
    }
   },
   "outputs": [],
   "source": [
    "# create gender_purchase df \n",
    "# fill with random gender and if purchase, yes or no \n",
    "columns = ['Gender', 'Purchase']\n",
    "import random \n",
    "n = 200 \n",
    "gender_values = set(['Male', 'Female'])\n",
    "purchase_values = set(['yes', 'no'])\n",
    "\n",
    "gender_pop = [gender for i in range(n) for gender in random.sample(gender_values, 1)]\n",
    "purchase_pop = [purch for i in range(n) for purch in random.sample(purchase_values, 1)]\n",
    "\n",
    "# create df \n",
    "df = pd.DataFrame({'Gender':gender_pop, 'Purchase':purchase_pop})"
   ]
  },
  {
   "cell_type": "code",
   "execution_count": 15,
   "metadata": {
    "ExecuteTime": {
     "end_time": "2020-08-03T13:39:43.135963Z",
     "start_time": "2020-08-03T13:39:43.119005Z"
    }
   },
   "outputs": [
    {
     "data": {
      "text/html": [
       "<div>\n",
       "<style scoped>\n",
       "    .dataframe tbody tr th:only-of-type {\n",
       "        vertical-align: middle;\n",
       "    }\n",
       "\n",
       "    .dataframe tbody tr th {\n",
       "        vertical-align: top;\n",
       "    }\n",
       "\n",
       "    .dataframe thead th {\n",
       "        text-align: right;\n",
       "    }\n",
       "</style>\n",
       "<table border=\"1\" class=\"dataframe\">\n",
       "  <thead>\n",
       "    <tr style=\"text-align: right;\">\n",
       "      <th>Purchase</th>\n",
       "      <th>no</th>\n",
       "      <th>yes</th>\n",
       "    </tr>\n",
       "    <tr>\n",
       "      <th>Gender</th>\n",
       "      <th></th>\n",
       "      <th></th>\n",
       "    </tr>\n",
       "  </thead>\n",
       "  <tbody>\n",
       "    <tr>\n",
       "      <th>Female</th>\n",
       "      <td>50</td>\n",
       "      <td>50</td>\n",
       "    </tr>\n",
       "    <tr>\n",
       "      <th>Male</th>\n",
       "      <td>47</td>\n",
       "      <td>53</td>\n",
       "    </tr>\n",
       "  </tbody>\n",
       "</table>\n",
       "</div>"
      ],
      "text/plain": [
       "Purchase  no  yes\n",
       "Gender           \n",
       "Female    50   50\n",
       "Male      47   53"
      ]
     },
     "execution_count": 15,
     "metadata": {},
     "output_type": "execute_result"
    }
   ],
   "source": [
    "# creating a table of frequency of yes and no \n",
    "table = pd.crosstab(df.Gender, df.Purchase)\n",
    "table"
   ]
  },
  {
   "cell_type": "markdown",
   "metadata": {},
   "source": [
    "We're going to define **\"odds, which describes the ratio of success to ratio of failure**. Considering females group, the probability that a female will purchase (success) the product is = 50/100 (yes/ total number of females). The probability of failure (no purchase) for female is 50/100. In this case the odds are equal ... (50/100) / (50/100) = 1. What happens to the range o=for x >= 0 but the range varies from `[-00, 00]`. "
   ]
  },
  {
   "cell_type": "code",
   "execution_count": 36,
   "metadata": {
    "ExecuteTime": {
     "end_time": "2020-08-03T14:02:15.660413Z",
     "start_time": "2020-08-03T14:02:15.196616Z"
    }
   },
   "outputs": [
    {
     "data": {
      "image/png": "[encoded data removed]",
      "text/plain": [
       "<Figure size 432x288 with 1 Axes>"
      ]
     },
     "metadata": {
      "needs_background": "light"
     },
     "output_type": "display_data"
    }
   ],
   "source": [
    "from random import randrange\n",
    "from math import log\n",
    "import numpy as np \n",
    "\n",
    "import matplotlib.pyplot as plt\n",
    "%matplotlib inline \n",
    "\n",
    "random = []\n",
    "xlist = []\n",
    "for i in range(100):\n",
    "    x = np.random.uniform(0, 10) # choose number between 0 and 10 \n",
    "    xlist.append(x) \n",
    "    random.append(math.log(x))\n",
    "    \n",
    "    \n",
    "plt.scatter(xlist, random, c='purple',alpha=0.3,label=r'$log x$')\n",
    "plt.ylabel(r'$log \\, x$', fontsize=17)\n",
    "plt.xlabel(r'$x$',fontsize=17)\n",
    "plt.legend(fontsize=16)\n",
    "plt.show()"
   ]
  },
  {
   "cell_type": "markdown",
   "metadata": {},
   "source": [
    "**Odds ratio**, represents which group (male/female) has better odds of success, and it's given by calculating the ratio of odds for each group. Odds ratio for females = odds of successful purchase by female (0.5) / odds of successful purchase by male (0.53) ... (0.5 / 0.53) or **.93** for females and **1.06** for males."
   ]
  },
  {
   "cell_type": "markdown",
   "metadata": {},
   "source": [
    "# Linear to Logistic Regression "
   ]
  },
  {
   "cell_type": "code",
   "execution_count": null,
   "metadata": {},
   "outputs": [],
   "source": []
  },
  {
   "cell_type": "markdown",
   "metadata": {},
   "source": [
    "# Logistic Function\n",
    "\n"
   ]
  },
  {
   "cell_type": "code",
   "execution_count": 37,
   "metadata": {
    "ExecuteTime": {
     "end_time": "2020-08-03T14:30:19.429272Z",
     "start_time": "2020-08-03T14:30:19.248564Z"
    }
   },
   "outputs": [
    {
     "data": {
      "image/png": "[encoded data removed]",
      "text/plain": [
       "<Figure size 432x288 with 1 Axes>"
      ]
     },
     "metadata": {
      "needs_background": "light"
     },
     "output_type": "display_data"
    }
   ],
   "source": [
    "from math import exp\n",
    "\n",
    "random1=[]\n",
    "random2=[]\n",
    "random3=[]\n",
    "xlist = []\n",
    "theta=[10, 1,0.1]\n",
    "\n",
    "for i in range(100):\n",
    "    x = np.random.uniform(-5,5)\n",
    "    xlist.append(x)\n",
    "    logreg1 = 1/(1+math.exp(-(theta[0]*x)))\n",
    "    logreg2 = 1/(1+math.exp(-(theta[1]*x)))\n",
    "    logreg3 = 1/(1+math.exp(-(theta[2]*x)))\n",
    "    random1.append(logreg1)\n",
    "    random2.append(logreg2)\n",
    "    random3.append(logreg3)\n",
    "    \n",
    "    \n",
    "plt.scatter(xlist, random1, marker='*',s=40, c='orange',alpha=0.5,label=r'$\\theta = %3.1f$'%(theta[0]))\n",
    "plt.scatter(xlist, random2, c='magenta',alpha=0.3,label=r'$\\theta = %3.1f$'%(theta[1]))\n",
    "plt.scatter(xlist, random3, c='navy',marker='d', alpha=0.3,label=r'$\\theta = %3.1f$'%(theta[2]))\n",
    "\n",
    "plt.axhline(y=0.5, label='P=0.5')\n",
    "plt.ylabel(r'$P=\\frac{1}{1+e^{-\\theta \\, x}}$', fontsize=19)\n",
    "plt.xlabel(r'$x$',fontsize=18)\n",
    "plt.legend(fontsize=16)\n",
    "plt.show()"
   ]
  },
  {
   "cell_type": "markdown",
   "metadata": {},
   "source": [
    "From the plot above, notice that the higher the value of the coefficient (orange stars) of the independent variable (here x), better it can represent two distinct probabilities 0 and 1. \n",
    "\n",
    "For lower coefficients it's essentially a straight line, resembling a linear regression function."
   ]
  },
  {
   "cell_type": "markdown",
   "metadata": {},
   "source": [
    "# Bernoulli and Logit\n",
    "The aim of logistic regression is to predict some unknown probability of *P* for a successful event, for any given linear combination of independent variables (i.e. features) \n",
    "\n",
    "How are Bernoulli and logit connected? The binomial distribution which is the probability distribution of having *n* success out of *N* trials, given that each trial is true with probability *P* and false with probability *Q= 1 - P*. \n",
    "\n",
    "Bernoulli distribution is a special case of binomial distribution for a single trial (*N = 1* ). **Most importantly we see that the dependent variable in logistic regression follows Bernoulli distribution having an unknown probability of P. Therefore, the logit i.e. log of odds, links the independent variable (*Xs*) to the Bernoulli distribution.** in logit case, P is unknown, but in Bernoulli distribution, we know it. "
   ]
  },
  {
   "cell_type": "markdown",
   "metadata": {},
   "source": [
    "# Example with Cancer Data-set and Probability Threshold \n",
    "\n",
    "Application of logistic regression. Here we'll focus on how we can set the probability threshold to classify our model. "
   ]
  },
  {
   "cell_type": "code",
   "execution_count": 38,
   "metadata": {
    "ExecuteTime": {
     "end_time": "2020-08-03T14:56:41.096918Z",
     "start_time": "2020-08-03T14:56:41.083533Z"
    }
   },
   "outputs": [],
   "source": [
    "from sklearn.datasets import load_breast_cancer\n",
    "\n",
    "cancer = load_breast_cancer()\n",
    "cancer_df = pd.DataFrame(cancer.data, columns = cancer.feature_names)"
   ]
  },
  {
   "cell_type": "code",
   "execution_count": 42,
   "metadata": {
    "ExecuteTime": {
     "end_time": "2020-08-03T15:01:08.725589Z",
     "start_time": "2020-08-03T15:01:08.690701Z"
    }
   },
   "outputs": [
    {
     "name": "stdout",
     "output_type": "stream",
     "text": [
      "LogReg score on cancer dataset:  0.9649122807017544\n"
     ]
    },
    {
     "name": "stderr",
     "output_type": "stream",
     "text": [
      "/Users/abrahamtunggala/opt/anaconda3/lib/python3.7/site-packages/sklearn/linear_model/_logistic.py:940: ConvergenceWarning: lbfgs failed to converge (status=1):\n",
      "STOP: TOTAL NO. of ITERATIONS REACHED LIMIT.\n",
      "\n",
      "Increase the number of iterations (max_iter) or scale the data as shown in:\n",
      "    https://scikit-learn.org/stable/modules/preprocessing.html\n",
      "Please also refer to the documentation for alternative solver options:\n",
      "    https://scikit-learn.org/stable/modules/linear_model.html#logistic-regression\n",
      "  extra_warning_msg=_LOGISTIC_SOLVER_CONVERGENCE_MSG)\n"
     ]
    }
   ],
   "source": [
    "from sklearn.model_selection import train_test_split\n",
    "from sklearn.linear_model import LogisticRegression \n",
    "\n",
    "X_trainc, X_testc, y_trainc, y_testc = train_test_split(cancer.data, cancer.target, test_size=.3, stratify=cancer.target, random_state=30)\n",
    "\n",
    "logreg = LogisticRegression()\n",
    "logreg.fit(X_trainc, y_trainc)\n",
    "\n",
    "print(\"LogReg score on cancer dataset: \", logreg.score(X_testc, y_testc))"
   ]
  },
  {
   "cell_type": "markdown",
   "metadata": {},
   "source": [
    "We will use `predict_proba` method for logistic regression which returns \"probability estimates for all classes which are ordered by the label of classes\""
   ]
  },
  {
   "cell_type": "code",
   "execution_count": 46,
   "metadata": {
    "ExecuteTime": {
     "end_time": "2020-08-03T15:04:27.563891Z",
     "start_time": "2020-08-03T15:04:27.560224Z"
    }
   },
   "outputs": [
    {
     "name": "stdout",
     "output_type": "stream",
     "text": [
      "[[6.08328032e-02 9.39167197e-01]\n",
      " [7.19755180e-03 9.92802448e-01]\n",
      " [9.99948083e-01 5.19173769e-05]\n",
      " [5.75904440e-02 9.42409556e-01]\n",
      " [9.65235362e-01 3.47646383e-02]\n",
      " [3.18841040e-01 6.81158960e-01]\n",
      " [9.99655311e-01 3.44688699e-04]\n",
      " [8.34696844e-04 9.99165303e-01]\n",
      " [9.99998175e-01 1.82490975e-06]]\n"
     ]
    }
   ],
   "source": [
    "proba = logreg.predict_proba(X_testc)\n",
    "\n",
    "print(proba[1:10])"
   ]
  },
  {
   "cell_type": "markdown",
   "metadata": {},
   "source": [
    "As our target is 0 or 1, `predict_proba` will give us a probability matrix of dimension (N,2). N is the number of instances, the first index refers to the probability that the data belong to class 0m and the second refers to the probability that the data belongs to class 1. By default, if the probability is more than 0.5, the the prediction is categorized as a positive outcome. Each row of the two columns should equal to 1, as a probability of success (*P*) and failure (*1 - P*) should be equal to 1. \n",
    "\n",
    "We can now use the `predict` method, which predicts class labels and default case for binary classification, it categorizes probabilities less than 0.5 as 0 and vice versa. "
   ]
  },
  {
   "cell_type": "code",
   "execution_count": 48,
   "metadata": {
    "ExecuteTime": {
     "end_time": "2020-08-03T15:15:19.018015Z",
     "start_time": "2020-08-03T15:15:19.014343Z"
    }
   },
   "outputs": [
    {
     "name": "stdout",
     "output_type": "stream",
     "text": [
      "[1 1 1 0 1 0 1 0 1 0 1 1 1 1 1 1 1 1 1 0 1 1 1 0 1 1 0 1 0 1 1 1 0 1 0 1 0\n",
      " 1 1 1 0 1 1 1 1 1 1 1 1 0 0 1 1 0 0 1 1 1 1 1 1 1 0 1 1 0 0 1 0 0 1 0 0 0\n",
      " 1 0 0 0 1 1 1 1 1 0 0 1 1 0 0 1 1 1 1 1 1 1 1 1 0 0 1 1 0 0 1 1 0 1 0 1 1\n",
      " 1 0 1 1 1 0 1 1 1 0 1 1 0 0 0 0 1 1 0 1 0 1 1 1 1 1 1 0 1 1 0 1 1 1 1 1 0\n",
      " 0 0 1 0 1 1 1 0 0 1 1 1 1 1 1 1 0 0 0 0 1 1 1]\n"
     ]
    }
   ],
   "source": [
    "predict = logreg.predict(X_testc)\n",
    "\n",
    "print(predict)"
   ]
  },
  {
   "cell_type": "markdown",
   "metadata": {},
   "source": [
    "Now we consider the first column of the `proba=logreg.predict_proba(X_testc)`, which consists of probabilities for class 0. We'll make a mini dataframe with this array. "
   ]
  },
  {
   "cell_type": "code",
   "execution_count": 49,
   "metadata": {
    "ExecuteTime": {
     "end_time": "2020-08-03T15:21:27.366025Z",
     "start_time": "2020-08-03T15:21:27.358848Z"
    }
   },
   "outputs": [
    {
     "data": {
      "text/html": [
       "<div>\n",
       "<style scoped>\n",
       "    .dataframe tbody tr th:only-of-type {\n",
       "        vertical-align: middle;\n",
       "    }\n",
       "\n",
       "    .dataframe tbody tr th {\n",
       "        vertical-align: top;\n",
       "    }\n",
       "\n",
       "    .dataframe thead th {\n",
       "        text-align: right;\n",
       "    }\n",
       "</style>\n",
       "<table border=\"1\" class=\"dataframe\">\n",
       "  <thead>\n",
       "    <tr style=\"text-align: right;\">\n",
       "      <th></th>\n",
       "      <th>0</th>\n",
       "    </tr>\n",
       "  </thead>\n",
       "  <tbody>\n",
       "    <tr>\n",
       "      <th>0</th>\n",
       "      <td>0.005428</td>\n",
       "    </tr>\n",
       "    <tr>\n",
       "      <th>1</th>\n",
       "      <td>0.060833</td>\n",
       "    </tr>\n",
       "    <tr>\n",
       "      <th>2</th>\n",
       "      <td>0.007198</td>\n",
       "    </tr>\n",
       "    <tr>\n",
       "      <th>3</th>\n",
       "      <td>0.999948</td>\n",
       "    </tr>\n",
       "    <tr>\n",
       "      <th>4</th>\n",
       "      <td>0.057590</td>\n",
       "    </tr>\n",
       "  </tbody>\n",
       "</table>\n",
       "</div>"
      ],
      "text/plain": [
       "          0\n",
       "0  0.005428\n",
       "1  0.060833\n",
       "2  0.007198\n",
       "3  0.999948\n",
       "4  0.057590"
      ]
     },
     "execution_count": 49,
     "metadata": {},
     "output_type": "execute_result"
    }
   ],
   "source": [
    "probability = proba[:,0]\n",
    "prob_df = pd.DataFrame(probability)\n",
    "\n",
    "prob_df.head()"
   ]
  },
  {
   "cell_type": "code",
   "execution_count": 50,
   "metadata": {
    "ExecuteTime": {
     "end_time": "2020-08-03T15:22:18.390283Z",
     "start_time": "2020-08-03T15:22:18.386703Z"
    }
   },
   "outputs": [],
   "source": [
    "# threshold of 1 or yes = 0.9\n",
    "prob_df['predict'] = np.where(prob_df[0]>= 0.9, 1, 0)"
   ]
  },
  {
   "cell_type": "code",
   "execution_count": 51,
   "metadata": {
    "ExecuteTime": {
     "end_time": "2020-08-03T15:22:55.974195Z",
     "start_time": "2020-08-03T15:22:55.967022Z"
    }
   },
   "outputs": [
    {
     "data": {
      "text/html": [
       "<div>\n",
       "<style scoped>\n",
       "    .dataframe tbody tr th:only-of-type {\n",
       "        vertical-align: middle;\n",
       "    }\n",
       "\n",
       "    .dataframe tbody tr th {\n",
       "        vertical-align: top;\n",
       "    }\n",
       "\n",
       "    .dataframe thead th {\n",
       "        text-align: right;\n",
       "    }\n",
       "</style>\n",
       "<table border=\"1\" class=\"dataframe\">\n",
       "  <thead>\n",
       "    <tr style=\"text-align: right;\">\n",
       "      <th></th>\n",
       "      <th>0</th>\n",
       "      <th>predict</th>\n",
       "    </tr>\n",
       "  </thead>\n",
       "  <tbody>\n",
       "    <tr>\n",
       "      <th>0</th>\n",
       "      <td>0.005428</td>\n",
       "      <td>0</td>\n",
       "    </tr>\n",
       "    <tr>\n",
       "      <th>1</th>\n",
       "      <td>0.060833</td>\n",
       "      <td>0</td>\n",
       "    </tr>\n",
       "    <tr>\n",
       "      <th>2</th>\n",
       "      <td>0.007198</td>\n",
       "      <td>0</td>\n",
       "    </tr>\n",
       "    <tr>\n",
       "      <th>3</th>\n",
       "      <td>0.999948</td>\n",
       "      <td>1</td>\n",
       "    </tr>\n",
       "    <tr>\n",
       "      <th>4</th>\n",
       "      <td>0.057590</td>\n",
       "      <td>0</td>\n",
       "    </tr>\n",
       "    <tr>\n",
       "      <th>5</th>\n",
       "      <td>0.965235</td>\n",
       "      <td>1</td>\n",
       "    </tr>\n",
       "    <tr>\n",
       "      <th>6</th>\n",
       "      <td>0.318841</td>\n",
       "      <td>0</td>\n",
       "    </tr>\n",
       "    <tr>\n",
       "      <th>7</th>\n",
       "      <td>0.999655</td>\n",
       "      <td>1</td>\n",
       "    </tr>\n",
       "    <tr>\n",
       "      <th>8</th>\n",
       "      <td>0.000835</td>\n",
       "      <td>0</td>\n",
       "    </tr>\n",
       "    <tr>\n",
       "      <th>9</th>\n",
       "      <td>0.999998</td>\n",
       "      <td>1</td>\n",
       "    </tr>\n",
       "  </tbody>\n",
       "</table>\n",
       "</div>"
      ],
      "text/plain": [
       "          0  predict\n",
       "0  0.005428        0\n",
       "1  0.060833        0\n",
       "2  0.007198        0\n",
       "3  0.999948        1\n",
       "4  0.057590        0\n",
       "5  0.965235        1\n",
       "6  0.318841        0\n",
       "7  0.999655        1\n",
       "8  0.000835        0\n",
       "9  0.999998        1"
      ]
     },
     "execution_count": 51,
     "metadata": {},
     "output_type": "execute_result"
    }
   ],
   "source": [
    "prob_df.head(10)"
   ]
  },
  {
   "cell_type": "code",
   "execution_count": 60,
   "metadata": {
    "ExecuteTime": {
     "end_time": "2020-08-03T15:25:47.252332Z",
     "start_time": "2020-08-03T15:25:47.247111Z"
    }
   },
   "outputs": [
    {
     "data": {
      "text/plain": [
       "58"
      ]
     },
     "execution_count": 60,
     "metadata": {},
     "output_type": "execute_result"
    }
   ],
   "source": [
    "prob_df['predict'] = np.where(prob_df[0]>=0.50, 1, 0)\n",
    "\n",
    "len(prob_df[prob_df.predict == 1])\n"
   ]
  },
  {
   "cell_type": "code",
   "execution_count": 61,
   "metadata": {
    "ExecuteTime": {
     "end_time": "2020-08-03T15:26:04.430594Z",
     "start_time": "2020-08-03T15:26:04.425310Z"
    }
   },
   "outputs": [
    {
     "data": {
      "text/plain": [
       "45"
      ]
     },
     "execution_count": 61,
     "metadata": {},
     "output_type": "execute_result"
    }
   ],
   "source": [
    "prob_df['predict'] = np.where(prob_df[0]>=0.97,1, 0)\n",
    "len(prob_df[prob_df['predict']==1])\n"
   ]
  },
  {
   "cell_type": "code",
   "execution_count": null,
   "metadata": {},
   "outputs": [],
   "source": []
  }
 ],
 "metadata": {
  "kernelspec": {
   "display_name": "Python 3",
   "language": "python",
   "name": "python3"
  },
  "language_info": {
   "codemirror_mode": {
    "name": "ipython",
    "version": 3
   },
   "file_extension": ".py",
   "mimetype": "text/x-python",
   "name": "python",
   "nbconvert_exporter": "python",
   "pygments_lexer": "ipython3",
   "version": "3.7.6"
  }
 },
 "nbformat": 4,
 "nbformat_minor": 4
}
