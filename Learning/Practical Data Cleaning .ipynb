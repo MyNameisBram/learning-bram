{
 "cells": [
  {
   "cell_type": "markdown",
   "metadata": {},
   "source": [
    "# [Practical Data Cleaning](https://towardsdatascience.com/the-simple-yet-practical-data-cleaning-codes-ad27c4ce0a38)\n",
    "\n",
    "> *Garbage in, garbage out*"
   ]
  },
  {
   "cell_type": "markdown",
   "metadata": {},
   "source": [
    "### Toolbox for Data Cleaning "
   ]
  },
  {
   "cell_type": "markdown",
   "metadata": {},
   "source": [
    "#### 1. Drop multiple columns"
   ]
  },
  {
   "cell_type": "code",
   "execution_count": 2,
   "metadata": {
    "ExecuteTime": {
     "end_time": "2020-08-03T16:45:25.171708Z",
     "start_time": "2020-08-03T16:45:25.168361Z"
    }
   },
   "outputs": [],
   "source": [
    "def drop_multiple_col(col_names_list, df):\n",
    "    '''\n",
    "    Aim    -> drop multiple columns based on column names \n",
    "    Input  -> list of column names, df \n",
    "    Output -> updated df with dropped columns \n",
    "    ---\n",
    "    '''\n",
    "    \n",
    "    df.drop(col_names_list, axis=1, inplace=True)\n",
    "    return df\n"
   ]
  },
  {
   "cell_type": "markdown",
   "metadata": {},
   "source": [
    "#### 2. Change dtypes\n"
   ]
  },
  {
   "cell_type": "code",
   "execution_count": 3,
   "metadata": {
    "ExecuteTime": {
     "end_time": "2020-08-03T16:57:39.681054Z",
     "start_time": "2020-08-03T16:57:39.677736Z"
    }
   },
   "outputs": [],
   "source": [
    "def change_dtypes(col_int, col_float, df):\n",
    "    '''\n",
    "    Aim    -> changing dtypes to save memory\n",
    "    Input  -> list of column names (int, float), df\n",
    "    Output -> updated df with smaller memory \n",
    "    ---\n",
    "    '''\n",
    "    df[col_int] = df[col_int].astype('int32')\n",
    "    df[col_float] = df[col_float].astype('float32')"
   ]
  },
  {
   "cell_type": "markdown",
   "metadata": {},
   "source": [
    "#### 3. Check missing data "
   ]
  },
  {
   "cell_type": "code",
   "execution_count": 4,
   "metadata": {
    "ExecuteTime": {
     "end_time": "2020-08-03T16:58:31.322512Z",
     "start_time": "2020-08-03T16:58:31.319483Z"
    }
   },
   "outputs": [],
   "source": [
    "def check_missing_data(df):\n",
    "    # check for any missing data in the df (display in descending order)\n",
    "    return df.isna().sum().sort_values(ascending=False)"
   ]
  },
  {
   "cell_type": "code",
   "execution_count": null,
   "metadata": {},
   "outputs": [],
   "source": []
  }
 ],
 "metadata": {
  "kernelspec": {
   "display_name": "Python 3",
   "language": "python",
   "name": "python3"
  },
  "language_info": {
   "codemirror_mode": {
    "name": "ipython",
    "version": 3
   },
   "file_extension": ".py",
   "mimetype": "text/x-python",
   "name": "python",
   "nbconvert_exporter": "python",
   "pygments_lexer": "ipython3",
   "version": "3.7.6"
  }
 },
 "nbformat": 4,
 "nbformat_minor": 4
}
