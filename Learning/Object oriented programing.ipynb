{
 "cells": [
  {
   "cell_type": "markdown",
   "metadata": {},
   "source": [
    "# [OOP](https://towardsdatascience.com/8-tips-for-object-oriented-programming-in-python-3e98b767ae79)"
   ]
  },
  {
   "cell_type": "markdown",
   "metadata": {},
   "source": [
    "# #1 Set attributes in the constructor"
   ]
  },
  {
   "cell_type": "code",
   "execution_count": 7,
   "metadata": {
    "ExecuteTime": {
     "end_time": "2021-08-04T17:08:31.708151Z",
     "start_time": "2021-08-04T17:08:31.705356Z"
    }
   },
   "outputs": [],
   "source": [
    "from datetime import date"
   ]
  },
  {
   "cell_type": "code",
   "execution_count": 14,
   "metadata": {
    "ExecuteTime": {
     "end_time": "2021-08-04T18:13:11.846440Z",
     "start_time": "2021-08-04T18:13:11.842251Z"
    }
   },
   "outputs": [],
   "source": [
    "# defining classes \n",
    "\n",
    "class BankAccount:\n",
    "    def __init__(self, owner, account_number, balance=0):\n",
    "        self.owner = owner\n",
    "        self.account_number = account_number\n",
    "        self.created_at = date.today()\n",
    "        if balance <-10_000:\n",
    "            raise ValueError(\"Balance too small!\")\n",
    "        else:\n",
    "            self.balance = balance\n",
    "            \n",
    "    def deposit(self, amount):\n",
    "        self.balance += amount\n",
    "        \n",
    "    def withdraw(self, amount):\n",
    "        self.balance -= amount "
   ]
  },
  {
   "cell_type": "code",
   "execution_count": 16,
   "metadata": {
    "ExecuteTime": {
     "end_time": "2021-08-04T18:13:20.863743Z",
     "start_time": "2021-08-04T18:13:20.861310Z"
    }
   },
   "outputs": [],
   "source": [
    "# example \n",
    "# set owner and account number \n",
    "my_accounts = BankAccount('Bram', 777)"
   ]
  },
  {
   "cell_type": "code",
   "execution_count": 17,
   "metadata": {
    "ExecuteTime": {
     "end_time": "2021-08-04T18:13:22.806421Z",
     "start_time": "2021-08-04T18:13:22.803527Z"
    }
   },
   "outputs": [
    {
     "name": "stdout",
     "output_type": "stream",
     "text": [
      "Bram 777 0\n"
     ]
    }
   ],
   "source": [
    "print(my_accounts.owner, my_accounts.account_number,  my_accounts.balance)"
   ]
  },
  {
   "cell_type": "markdown",
   "metadata": {},
   "source": [
    "# #2 Distinguish class-level and instance-level data and methods\n",
    "\n",
    "Instance-level data should not interfere with how the class works in general. Keep it separate from class level data. \n"
   ]
  },
  {
   "cell_type": "code",
   "execution_count": 22,
   "metadata": {
    "ExecuteTime": {
     "end_time": "2021-08-04T18:39:49.330636Z",
     "start_time": "2021-08-04T18:39:49.326032Z"
    }
   },
   "outputs": [],
   "source": [
    "import csv\n",
    "\n",
    "class BankAccount:\n",
    "    \n",
    "    MIN_BALANCE = -10_000\n",
    "    \n",
    "    def __init__(self, owner, account_number, balance=0):\n",
    "        self.owner = owner\n",
    "        self.account_number = account_number\n",
    "        self.created_at = date.today()\n",
    "        if balance < self.MIN_BALANCE:\n",
    "            raise ValueError(\"Balance too small!\")\n",
    "        else:\n",
    "            self.balance = balance\n",
    "            \n",
    "    @classmethod\n",
    "    def from_csv(cls, filepath):\n",
    "        with open(filepath, 'r') as f:\n",
    "            row = csv.reader(f).__next__()\n",
    "            owner, account_number = row\n",
    "        return cls(owner, account_number)"
   ]
  },
  {
   "cell_type": "code",
   "execution_count": 24,
   "metadata": {
    "ExecuteTime": {
     "end_time": "2021-08-04T18:40:18.142249Z",
     "start_time": "2021-08-04T18:40:18.138469Z"
    }
   },
   "outputs": [
    {
     "name": "stdout",
     "output_type": "stream",
     "text": [
      "Bram  123456 0\n"
     ]
    }
   ],
   "source": [
    "my_account = BankAccount.from_csv('testfile.csv')\n",
    "\n",
    "print(my_account.owner, my_account.account_number, my_account.balance)"
   ]
  },
  {
   "cell_type": "markdown",
   "metadata": {},
   "source": [
    "# #3 Determine was is equal"
   ]
  },
  {
   "cell_type": "code",
   "execution_count": 25,
   "metadata": {
    "ExecuteTime": {
     "end_time": "2021-08-04T18:41:55.843046Z",
     "start_time": "2021-08-04T18:41:55.832900Z"
    }
   },
   "outputs": [
    {
     "data": {
      "text/plain": [
       "False"
      ]
     },
     "execution_count": 25,
     "metadata": {},
     "output_type": "execute_result"
    }
   ],
   "source": [
    "# what happens if we create two identical accounts? \n",
    "acct_A = BankAccount('mike', 123)\n",
    "acct_B = BankAccount('mike', 123)\n",
    "\n",
    "acct_A == acct_B"
   ]
  },
  {
   "cell_type": "markdown",
   "metadata": {},
   "source": [
    "When comparing two instances of an object, Python looks at the memory chunks they occupy. To get meaningful comparisons, define equality explicitely."
   ]
  },
  {
   "cell_type": "code",
   "execution_count": 26,
   "metadata": {
    "ExecuteTime": {
     "end_time": "2021-08-05T13:21:01.620702Z",
     "start_time": "2021-08-05T13:21:01.600439Z"
    }
   },
   "outputs": [],
   "source": [
    "class BankAccount:\n",
    "    \n",
    "    MIN_BALANCE = -10_000\n",
    "    \n",
    "    def __init__(self, owner, account_number, balance=0):\n",
    "        self.owner = owner\n",
    "        self.account_number = account_number\n",
    "        self.created_at = date.today()\n",
    "        if balance < self.MIN_BALANCE:\n",
    "            raise ValueError(\"Balance too small!\")\n",
    "        else:\n",
    "            self.balance = balance\n",
    "            \n",
    "    @classmethod\n",
    "    def from_csv(cls, filepath):\n",
    "        with open(filepath, 'r') as f:\n",
    "            row = csv.reader(f).__next__()\n",
    "            owner, account_number = row\n",
    "        return cls(owner, account_number)\n",
    "    \n",
    "    def __eq__(self, other):\n",
    "        return True if self.account_number == other.account_number else False"
   ]
  },
  {
   "cell_type": "code",
   "execution_count": 27,
   "metadata": {
    "ExecuteTime": {
     "end_time": "2021-08-05T13:21:32.108073Z",
     "start_time": "2021-08-05T13:21:32.101992Z"
    }
   },
   "outputs": [
    {
     "data": {
      "text/plain": [
       "True"
      ]
     },
     "execution_count": 27,
     "metadata": {},
     "output_type": "execute_result"
    }
   ],
   "source": [
    "# rerun \n",
    "acct_A = BankAccount('mike', 123)\n",
    "acct_B = BankAccount('mike', 123)\n",
    "\n",
    "acct_A == acct_B"
   ]
  },
  {
   "cell_type": "markdown",
   "metadata": {},
   "source": [
    "# #4 Provide string representations"
   ]
  },
  {
   "cell_type": "code",
   "execution_count": 28,
   "metadata": {
    "ExecuteTime": {
     "end_time": "2021-08-05T13:22:28.182542Z",
     "start_time": "2021-08-05T13:22:28.178774Z"
    }
   },
   "outputs": [
    {
     "name": "stdout",
     "output_type": "stream",
     "text": [
      "<__main__.BankAccount object at 0x7ffa201debd0>\n"
     ]
    }
   ],
   "source": [
    "my_account = BankAccount(\"Michal\", 123)\n",
    "print(my_account)"
   ]
  },
  {
   "cell_type": "code",
   "execution_count": 32,
   "metadata": {
    "ExecuteTime": {
     "end_time": "2021-08-05T13:25:59.943578Z",
     "start_time": "2021-08-05T13:25:59.936513Z"
    }
   },
   "outputs": [
    {
     "ename": "SyntaxError",
     "evalue": "invalid syntax (<ipython-input-32-c6536a9d97ed>, line 33)",
     "output_type": "error",
     "traceback": [
      "\u001b[0;36m  File \u001b[0;32m\"<ipython-input-32-c6536a9d97ed>\"\u001b[0;36m, line \u001b[0;32m33\u001b[0m\n\u001b[0;31m    def to_dash_date(date.today()):\u001b[0m\n\u001b[0m                         ^\u001b[0m\n\u001b[0;31mSyntaxError\u001b[0m\u001b[0;31m:\u001b[0m invalid syntax\n"
     ]
    }
   ],
   "source": [
    "class BankAccount:\n",
    "    \n",
    "    MIN_BALANCE = -10_000\n",
    "    \n",
    "    def __init__(self, owner, account_number, balance=0):\n",
    "        self.owner = owner\n",
    "        self.account_number = account_number\n",
    "        self.created_at = date.today()\n",
    "        if balance < self.MIN_BALANCE:\n",
    "            raise ValueError(\"Balance too small!\")\n",
    "        else:\n",
    "            self.balance = balance\n",
    "            \n",
    "    @classmethod\n",
    "    def from_csv(cls, filepath):\n",
    "        with open(filepath, 'r') as f:\n",
    "            row = csv.reader(f).__next__()\n",
    "            owner, account_number = row\n",
    "        return cls(owner, account_number)\n",
    "    \n",
    "    def __eq__(self, other):\n",
    "        return True if self.account_number == other.account_number else False    \n",
    "    \n",
    "    def __str__(self):\n",
    "        return f\"\"\"\n",
    "          Bank Account:\n",
    "          Account Owner: {self.owner}\n",
    "          Account Number: {self.account_number}\n",
    "          Creation Date: {self.to_dash_date(str(self.created_at))}\n",
    "          Current Balance: {self.balance}\n",
    "      \"\"\"  \n",
    "    \n",
    "    def to_dash_date(date):\n",
    "        return date.replace(\"/\", \"-\") \n",
    "    \n",
    "    def __repr__(self):\n",
    "        return f\"BankAccount(owner='{self._owner}', \" \\\n",
    "               f\"account_number={self._account_number}, \" \\\n",
    "               f\"balance={self._balance})\""
   ]
  },
  {
   "cell_type": "code",
   "execution_count": 31,
   "metadata": {
    "ExecuteTime": {
     "end_time": "2021-08-05T13:25:03.284400Z",
     "start_time": "2021-08-05T13:25:03.279817Z"
    }
   },
   "outputs": [
    {
     "data": {
      "text/plain": [
       "datetime.date"
      ]
     },
     "execution_count": 31,
     "metadata": {},
     "output_type": "execute_result"
    }
   ],
   "source": [
    "date"
   ]
  },
  {
   "cell_type": "code",
   "execution_count": 30,
   "metadata": {
    "ExecuteTime": {
     "end_time": "2021-08-05T13:24:29.485435Z",
     "start_time": "2021-08-05T13:24:29.458526Z"
    }
   },
   "outputs": [
    {
     "ename": "TypeError",
     "evalue": "to_dash_date() takes 1 positional argument but 2 were given",
     "output_type": "error",
     "traceback": [
      "\u001b[0;31m---------------------------------------------------------------------------\u001b[0m",
      "\u001b[0;31mTypeError\u001b[0m                                 Traceback (most recent call last)",
      "\u001b[0;32m<ipython-input-30-ac5be04818d5>\u001b[0m in \u001b[0;36m<module>\u001b[0;34m\u001b[0m\n\u001b[1;32m      1\u001b[0m \u001b[0mmy_account\u001b[0m \u001b[0;34m=\u001b[0m \u001b[0mBankAccount\u001b[0m\u001b[0;34m(\u001b[0m\u001b[0;34m\"Michal\"\u001b[0m\u001b[0;34m,\u001b[0m \u001b[0;36m123\u001b[0m\u001b[0;34m)\u001b[0m\u001b[0;34m\u001b[0m\u001b[0;34m\u001b[0m\u001b[0m\n\u001b[0;32m----> 2\u001b[0;31m \u001b[0mprint\u001b[0m\u001b[0;34m(\u001b[0m\u001b[0mmy_account\u001b[0m\u001b[0;34m)\u001b[0m\u001b[0;34m\u001b[0m\u001b[0;34m\u001b[0m\u001b[0m\n\u001b[0m\u001b[1;32m      3\u001b[0m \u001b[0mrepr\u001b[0m\u001b[0;34m(\u001b[0m\u001b[0mmy_account\u001b[0m\u001b[0;34m)\u001b[0m\u001b[0;34m\u001b[0m\u001b[0;34m\u001b[0m\u001b[0m\n",
      "\u001b[0;32m<ipython-input-29-6ce11bdd590f>\u001b[0m in \u001b[0;36m__str__\u001b[0;34m(self)\u001b[0m\n\u001b[1;32m     29\u001b[0m           \u001b[0mCreation\u001b[0m \u001b[0mDate\u001b[0m\u001b[0;34m:\u001b[0m \u001b[0;34m{\u001b[0m\u001b[0mself\u001b[0m\u001b[0;34m.\u001b[0m\u001b[0mto_dash_date\u001b[0m\u001b[0;34m(\u001b[0m\u001b[0mstr\u001b[0m\u001b[0;34m(\u001b[0m\u001b[0mself\u001b[0m\u001b[0;34m.\u001b[0m\u001b[0mcreated_at\u001b[0m\u001b[0;34m)\u001b[0m\u001b[0;34m)\u001b[0m\u001b[0;34m}\u001b[0m\u001b[0;34m\u001b[0m\u001b[0;34m\u001b[0m\u001b[0m\n\u001b[1;32m     30\u001b[0m           \u001b[0mCurrent\u001b[0m \u001b[0mBalance\u001b[0m\u001b[0;34m:\u001b[0m \u001b[0;34m{\u001b[0m\u001b[0mself\u001b[0m\u001b[0;34m.\u001b[0m\u001b[0mbalance\u001b[0m\u001b[0;34m}\u001b[0m\u001b[0;34m\u001b[0m\u001b[0;34m\u001b[0m\u001b[0m\n\u001b[0;32m---> 31\u001b[0;31m       \"\"\"  \n\u001b[0m\u001b[1;32m     32\u001b[0m \u001b[0;34m\u001b[0m\u001b[0m\n\u001b[1;32m     33\u001b[0m     \u001b[0;32mdef\u001b[0m \u001b[0mto_dash_date\u001b[0m\u001b[0;34m(\u001b[0m\u001b[0mdate\u001b[0m\u001b[0;34m)\u001b[0m\u001b[0;34m:\u001b[0m\u001b[0;34m\u001b[0m\u001b[0;34m\u001b[0m\u001b[0m\n",
      "\u001b[0;31mTypeError\u001b[0m: to_dash_date() takes 1 positional argument but 2 were given"
     ]
    }
   ],
   "source": [
    "my_account = BankAccount(\"Michal\", 123)\n",
    "print(my_account)\n",
    "repr(my_account)"
   ]
  },
  {
   "cell_type": "code",
   "execution_count": null,
   "metadata": {},
   "outputs": [],
   "source": []
  },
  {
   "cell_type": "code",
   "execution_count": null,
   "metadata": {},
   "outputs": [],
   "source": []
  }
 ],
 "metadata": {
  "kernelspec": {
   "display_name": "Python 3",
   "language": "python",
   "name": "python3"
  },
  "language_info": {
   "codemirror_mode": {
    "name": "ipython",
    "version": 3
   },
   "file_extension": ".py",
   "mimetype": "text/x-python",
   "name": "python",
   "nbconvert_exporter": "python",
   "pygments_lexer": "ipython3",
   "version": "3.7.6"
  }
 },
 "nbformat": 4,
 "nbformat_minor": 4
}
