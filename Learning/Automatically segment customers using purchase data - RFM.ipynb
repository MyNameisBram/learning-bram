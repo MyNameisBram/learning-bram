{
 "cells": [
  {
   "cell_type": "markdown",
   "metadata": {},
   "source": [
    "# Automatically segment customers using purchase data "
   ]
  },
  {
   "cell_type": "code",
   "execution_count": 2,
   "metadata": {
    "ExecuteTime": {
     "end_time": "2020-08-11T18:14:54.420995Z",
     "start_time": "2020-08-11T18:14:54.416831Z"
    }
   },
   "outputs": [],
   "source": [
    "import matplotlib as plt\n",
    "import numpy as np\n",
    "%matplotlib inline  \n",
    "import warnings\n",
    "warnings.filterwarnings('ignore')\n",
    "import pandas as pd"
   ]
  },
  {
   "cell_type": "markdown",
   "metadata": {},
   "source": [
    "### Why care about customer segmentation? \n",
    "\n",
    "It can provide insights into your customers behavior, habits, and preferences, allowing you to offer tailored marketing campaigns, increasing your odds of success as well as improving customer experience with tailored content. \n",
    "\n",
    "### What are we building?\n",
    "\n",
    "Using transactional purchasing data, we will create a 2 x 2 matrix to create 4 customers groups. Each group will defer from the other, depending from the on the 2 dimensions: 1) current customer value, and 2) potential customer value. \n",
    "\n",
    "### What technique are we going to use? \n",
    "\n",
    "RFM model: \n",
    "- Recency: When was the last time they purchased \n",
    "- Frequency: How often and for how long have they purchased?\n",
    "- Monetary value/sales: How much have they purchased? \n",
    "\n",
    "Generally used to identify the highest vale customer at the intersection of each 3 question. To build the 2 x 2 Matrix we'll only use the R and the M from RFM.\n",
    "\n",
    "### What data are we using?\n",
    "\n",
    "We are using purchased sample data provided by tableau known as \"Global Superstore\". It's often used in forecasting and time series analysis. It contains more than 1500 different customers and 4 years of purchase data. Since we're doing a behavioral segmentation and not a demographic segmentation, we will remove some potential demographic bias by filtering only the B2C segment (consumer) and the USA country.\n",
    "\n"
   ]
  },
  {
   "cell_type": "markdown",
   "metadata": {},
   "source": [
    "# 1. Load , filter, clean and aggregate the data at the customer level "
   ]
  },
  {
   "cell_type": "code",
   "execution_count": null,
   "metadata": {},
   "outputs": [],
   "source": [
    "url = 'https://github.com/tristanga/Data-Analysis/raw/master/Global%20Superstore.xls'\n",
    "df = pd.read_excel(url)\n",
    "df = df[(df.Segment == 'Consumer') & (df.Country == 'United States')]"
   ]
  },
  {
   "cell_type": "code",
   "execution_count": 4,
   "metadata": {
    "ExecuteTime": {
     "end_time": "2020-08-11T18:47:31.969103Z",
     "start_time": "2020-08-11T18:47:31.945989Z"
    }
   },
   "outputs": [
    {
     "data": {
      "text/html": [
       "<div>\n",
       "<style scoped>\n",
       "    .dataframe tbody tr th:only-of-type {\n",
       "        vertical-align: middle;\n",
       "    }\n",
       "\n",
       "    .dataframe tbody tr th {\n",
       "        vertical-align: top;\n",
       "    }\n",
       "\n",
       "    .dataframe thead th {\n",
       "        text-align: right;\n",
       "    }\n",
       "</style>\n",
       "<table border=\"1\" class=\"dataframe\">\n",
       "  <thead>\n",
       "    <tr style=\"text-align: right;\">\n",
       "      <th></th>\n",
       "      <th>Row ID</th>\n",
       "      <th>Order ID</th>\n",
       "      <th>Order Date</th>\n",
       "      <th>Ship Date</th>\n",
       "      <th>Ship Mode</th>\n",
       "      <th>Customer ID</th>\n",
       "      <th>Customer Name</th>\n",
       "      <th>Segment</th>\n",
       "      <th>City</th>\n",
       "      <th>State</th>\n",
       "      <th>...</th>\n",
       "      <th>Product ID</th>\n",
       "      <th>Category</th>\n",
       "      <th>Sub-Category</th>\n",
       "      <th>Product Name</th>\n",
       "      <th>Sales</th>\n",
       "      <th>Quantity</th>\n",
       "      <th>Discount</th>\n",
       "      <th>Profit</th>\n",
       "      <th>Shipping Cost</th>\n",
       "      <th>Order Priority</th>\n",
       "    </tr>\n",
       "  </thead>\n",
       "  <tbody>\n",
       "    <tr>\n",
       "      <th>0</th>\n",
       "      <td>32298</td>\n",
       "      <td>CA-2012-124891</td>\n",
       "      <td>2012-07-31</td>\n",
       "      <td>2012-07-31</td>\n",
       "      <td>Same Day</td>\n",
       "      <td>RH-19495</td>\n",
       "      <td>Rick Hansen</td>\n",
       "      <td>Consumer</td>\n",
       "      <td>New York City</td>\n",
       "      <td>New York</td>\n",
       "      <td>...</td>\n",
       "      <td>TEC-AC-10003033</td>\n",
       "      <td>Technology</td>\n",
       "      <td>Accessories</td>\n",
       "      <td>Plantronics CS510 - Over-the-Head monaural Wir...</td>\n",
       "      <td>2309.650</td>\n",
       "      <td>7</td>\n",
       "      <td>0.0</td>\n",
       "      <td>762.1845</td>\n",
       "      <td>933.57</td>\n",
       "      <td>Critical</td>\n",
       "    </tr>\n",
       "    <tr>\n",
       "      <th>9</th>\n",
       "      <td>40936</td>\n",
       "      <td>CA-2012-116638</td>\n",
       "      <td>2012-01-28</td>\n",
       "      <td>2012-01-31</td>\n",
       "      <td>Second Class</td>\n",
       "      <td>JH-15985</td>\n",
       "      <td>Joseph Holt</td>\n",
       "      <td>Consumer</td>\n",
       "      <td>Concord</td>\n",
       "      <td>North Carolina</td>\n",
       "      <td>...</td>\n",
       "      <td>FUR-TA-10000198</td>\n",
       "      <td>Furniture</td>\n",
       "      <td>Tables</td>\n",
       "      <td>Chromcraft Bull-Nose Wood Oval Conference Tabl...</td>\n",
       "      <td>4297.644</td>\n",
       "      <td>13</td>\n",
       "      <td>0.4</td>\n",
       "      <td>-1862.3124</td>\n",
       "      <td>865.74</td>\n",
       "      <td>Critical</td>\n",
       "    </tr>\n",
       "  </tbody>\n",
       "</table>\n",
       "<p>2 rows × 24 columns</p>\n",
       "</div>"
      ],
      "text/plain": [
       "   Row ID        Order ID Order Date  Ship Date     Ship Mode Customer ID  \\\n",
       "0   32298  CA-2012-124891 2012-07-31 2012-07-31      Same Day    RH-19495   \n",
       "9   40936  CA-2012-116638 2012-01-28 2012-01-31  Second Class    JH-15985   \n",
       "\n",
       "  Customer Name   Segment           City           State  ...  \\\n",
       "0   Rick Hansen  Consumer  New York City        New York  ...   \n",
       "9   Joseph Holt  Consumer        Concord  North Carolina  ...   \n",
       "\n",
       "        Product ID    Category Sub-Category  \\\n",
       "0  TEC-AC-10003033  Technology  Accessories   \n",
       "9  FUR-TA-10000198   Furniture       Tables   \n",
       "\n",
       "                                        Product Name     Sales Quantity  \\\n",
       "0  Plantronics CS510 - Over-the-Head monaural Wir...  2309.650        7   \n",
       "9  Chromcraft Bull-Nose Wood Oval Conference Tabl...  4297.644       13   \n",
       "\n",
       "  Discount     Profit  Shipping Cost  Order Priority  \n",
       "0      0.0   762.1845         933.57        Critical  \n",
       "9      0.4 -1862.3124         865.74        Critical  \n",
       "\n",
       "[2 rows x 24 columns]"
      ]
     },
     "execution_count": 4,
     "metadata": {},
     "output_type": "execute_result"
    }
   ],
   "source": [
    "df.head(2)"
   ]
  },
  {
   "cell_type": "markdown",
   "metadata": {},
   "source": [
    "# 2. Create RFM Features for each customers"
   ]
  },
  {
   "cell_type": "code",
   "execution_count": 5,
   "metadata": {
    "ExecuteTime": {
     "end_time": "2020-08-11T19:14:10.766075Z",
     "start_time": "2020-08-11T19:14:10.586236Z"
    }
   },
   "outputs": [],
   "source": [
    "df_RFM = df.groupby('Customer ID').agg({'Order Date': lambda y:(df['Order Date'].max().date() - y.max().date()).days, \n",
    "                                       'Order ID': lambda y: len(y.unique()), \n",
    "                                        'Sales': lambda y:round(y.sum(),2)\n",
    "                                       })\n",
    "\n"
   ]
  },
  {
   "cell_type": "code",
   "execution_count": 7,
   "metadata": {
    "ExecuteTime": {
     "end_time": "2020-08-11T19:15:32.145616Z",
     "start_time": "2020-08-11T19:15:32.136072Z"
    }
   },
   "outputs": [
    {
     "data": {
      "text/html": [
       "<div>\n",
       "<style scoped>\n",
       "    .dataframe tbody tr th:only-of-type {\n",
       "        vertical-align: middle;\n",
       "    }\n",
       "\n",
       "    .dataframe tbody tr th {\n",
       "        vertical-align: top;\n",
       "    }\n",
       "\n",
       "    .dataframe thead th {\n",
       "        text-align: right;\n",
       "    }\n",
       "</style>\n",
       "<table border=\"1\" class=\"dataframe\">\n",
       "  <thead>\n",
       "    <tr style=\"text-align: right;\">\n",
       "      <th></th>\n",
       "      <th>Recency</th>\n",
       "      <th>Frequency</th>\n",
       "      <th>Monetary</th>\n",
       "    </tr>\n",
       "    <tr>\n",
       "      <th>Customer ID</th>\n",
       "      <th></th>\n",
       "      <th></th>\n",
       "      <th></th>\n",
       "    </tr>\n",
       "  </thead>\n",
       "  <tbody>\n",
       "    <tr>\n",
       "      <th>RB-19360</th>\n",
       "      <td>96</td>\n",
       "      <td>6</td>\n",
       "      <td>15117.34</td>\n",
       "    </tr>\n",
       "    <tr>\n",
       "      <th>AB-10105</th>\n",
       "      <td>41</td>\n",
       "      <td>10</td>\n",
       "      <td>14473.57</td>\n",
       "    </tr>\n",
       "    <tr>\n",
       "      <th>KL-16645</th>\n",
       "      <td>47</td>\n",
       "      <td>12</td>\n",
       "      <td>14175.23</td>\n",
       "    </tr>\n",
       "    <tr>\n",
       "      <th>SC-20095</th>\n",
       "      <td>349</td>\n",
       "      <td>9</td>\n",
       "      <td>14142.33</td>\n",
       "    </tr>\n",
       "    <tr>\n",
       "      <th>HL-15040</th>\n",
       "      <td>43</td>\n",
       "      <td>6</td>\n",
       "      <td>12873.30</td>\n",
       "    </tr>\n",
       "  </tbody>\n",
       "</table>\n",
       "</div>"
      ],
      "text/plain": [
       "             Recency  Frequency  Monetary\n",
       "Customer ID                              \n",
       "RB-19360          96          6  15117.34\n",
       "AB-10105          41         10  14473.57\n",
       "KL-16645          47         12  14175.23\n",
       "SC-20095         349          9  14142.33\n",
       "HL-15040          43          6  12873.30"
      ]
     },
     "execution_count": 7,
     "metadata": {},
     "output_type": "execute_result"
    }
   ],
   "source": [
    "df_RFM.columns = ['Recency', 'Frequency', 'Monetary']\n",
    "df_RFM = df_RFM.sort_values('Monetary', ascending=False)\n",
    "df_RFM.head()"
   ]
  },
  {
   "cell_type": "markdown",
   "metadata": {},
   "source": [
    "# 3. To automate the segmentation we will use 80% quantile for Recency and Monetary"
   ]
  },
  {
   "cell_type": "code",
   "execution_count": 8,
   "metadata": {
    "ExecuteTime": {
     "end_time": "2020-08-11T19:16:30.193201Z",
     "start_time": "2020-08-11T19:16:30.175247Z"
    },
    "scrolled": true
   },
   "outputs": [
    {
     "name": "stdout",
     "output_type": "stream",
     "text": [
      "     Recency  Frequency  Monetary\n",
      "0.8    222.2        8.0   4070.17\n"
     ]
    },
    {
     "data": {
      "text/html": [
       "<div>\n",
       "<style scoped>\n",
       "    .dataframe tbody tr th:only-of-type {\n",
       "        vertical-align: middle;\n",
       "    }\n",
       "\n",
       "    .dataframe tbody tr th {\n",
       "        vertical-align: top;\n",
       "    }\n",
       "\n",
       "    .dataframe thead th {\n",
       "        text-align: right;\n",
       "    }\n",
       "</style>\n",
       "<table border=\"1\" class=\"dataframe\">\n",
       "  <thead>\n",
       "    <tr style=\"text-align: right;\">\n",
       "      <th></th>\n",
       "      <th>Recency</th>\n",
       "      <th>Frequency</th>\n",
       "      <th>Monetary</th>\n",
       "      <th>R</th>\n",
       "      <th>F</th>\n",
       "      <th>M</th>\n",
       "    </tr>\n",
       "    <tr>\n",
       "      <th>Customer ID</th>\n",
       "      <th></th>\n",
       "      <th></th>\n",
       "      <th></th>\n",
       "      <th></th>\n",
       "      <th></th>\n",
       "      <th></th>\n",
       "    </tr>\n",
       "  </thead>\n",
       "  <tbody>\n",
       "    <tr>\n",
       "      <th>RB-19360</th>\n",
       "      <td>96</td>\n",
       "      <td>6</td>\n",
       "      <td>15117.34</td>\n",
       "      <td>2</td>\n",
       "      <td>1</td>\n",
       "      <td>2</td>\n",
       "    </tr>\n",
       "    <tr>\n",
       "      <th>AB-10105</th>\n",
       "      <td>41</td>\n",
       "      <td>10</td>\n",
       "      <td>14473.57</td>\n",
       "      <td>2</td>\n",
       "      <td>2</td>\n",
       "      <td>2</td>\n",
       "    </tr>\n",
       "    <tr>\n",
       "      <th>KL-16645</th>\n",
       "      <td>47</td>\n",
       "      <td>12</td>\n",
       "      <td>14175.23</td>\n",
       "      <td>2</td>\n",
       "      <td>2</td>\n",
       "      <td>2</td>\n",
       "    </tr>\n",
       "    <tr>\n",
       "      <th>SC-20095</th>\n",
       "      <td>349</td>\n",
       "      <td>9</td>\n",
       "      <td>14142.33</td>\n",
       "      <td>1</td>\n",
       "      <td>2</td>\n",
       "      <td>2</td>\n",
       "    </tr>\n",
       "    <tr>\n",
       "      <th>HL-15040</th>\n",
       "      <td>43</td>\n",
       "      <td>6</td>\n",
       "      <td>12873.30</td>\n",
       "      <td>2</td>\n",
       "      <td>1</td>\n",
       "      <td>2</td>\n",
       "    </tr>\n",
       "  </tbody>\n",
       "</table>\n",
       "</div>"
      ],
      "text/plain": [
       "             Recency  Frequency  Monetary  R  F  M\n",
       "Customer ID                                       \n",
       "RB-19360          96          6  15117.34  2  1  2\n",
       "AB-10105          41         10  14473.57  2  2  2\n",
       "KL-16645          47         12  14175.23  2  2  2\n",
       "SC-20095         349          9  14142.33  1  2  2\n",
       "HL-15040          43          6  12873.30  2  1  2"
      ]
     },
     "execution_count": 8,
     "metadata": {},
     "output_type": "execute_result"
    }
   ],
   "source": [
    "# We will use the 80% quantile for each feature\n",
    "quantiles = df_RFM.quantile(q=[0.8])\n",
    "print(quantiles)\n",
    "\n",
    "df_RFM['R'] = np.where(df_RFM['Recency']<=int(quantiles.Recency.values), 2, 1)\n",
    "df_RFM['F'] = np.where(df_RFM['Frequency']>=int(quantiles.Frequency.values), 2, 1)\n",
    "df_RFM['M'] = np.where(df_RFM['Monetary']>=int(quantiles.Monetary.values), 2, 1)\n",
    "\n",
    "df_RFM.head()"
   ]
  },
  {
   "cell_type": "markdown",
   "metadata": {},
   "source": [
    "# 4. Calculate RFM score and sort customers \n"
   ]
  },
  {
   "cell_type": "code",
   "execution_count": 13,
   "metadata": {
    "ExecuteTime": {
     "end_time": "2020-08-11T19:30:09.785158Z",
     "start_time": "2020-08-11T19:30:09.758311Z"
    }
   },
   "outputs": [
    {
     "data": {
      "text/html": [
       "<div>\n",
       "<style scoped>\n",
       "    .dataframe tbody tr th:only-of-type {\n",
       "        vertical-align: middle;\n",
       "    }\n",
       "\n",
       "    .dataframe tbody tr th {\n",
       "        vertical-align: top;\n",
       "    }\n",
       "\n",
       "    .dataframe thead th {\n",
       "        text-align: right;\n",
       "    }\n",
       "</style>\n",
       "<table border=\"1\" class=\"dataframe\">\n",
       "  <thead>\n",
       "    <tr style=\"text-align: right;\">\n",
       "      <th></th>\n",
       "      <th>Customer ID</th>\n",
       "      <th>Frequency</th>\n",
       "      <th>Recency</th>\n",
       "      <th>R</th>\n",
       "      <th>M</th>\n",
       "      <th>Monetary</th>\n",
       "    </tr>\n",
       "    <tr>\n",
       "      <th>RMScore</th>\n",
       "      <th></th>\n",
       "      <th></th>\n",
       "      <th></th>\n",
       "      <th></th>\n",
       "      <th></th>\n",
       "      <th></th>\n",
       "    </tr>\n",
       "  </thead>\n",
       "  <tbody>\n",
       "    <tr>\n",
       "      <th>22</th>\n",
       "      <td>73</td>\n",
       "      <td>8</td>\n",
       "      <td>59</td>\n",
       "      <td>2</td>\n",
       "      <td>2</td>\n",
       "      <td>6711.0</td>\n",
       "    </tr>\n",
       "    <tr>\n",
       "      <th>21</th>\n",
       "      <td>9</td>\n",
       "      <td>7</td>\n",
       "      <td>425</td>\n",
       "      <td>1</td>\n",
       "      <td>2</td>\n",
       "      <td>8564.0</td>\n",
       "    </tr>\n",
       "    <tr>\n",
       "      <th>12</th>\n",
       "      <td>254</td>\n",
       "      <td>6</td>\n",
       "      <td>70</td>\n",
       "      <td>2</td>\n",
       "      <td>1</td>\n",
       "      <td>1902.0</td>\n",
       "    </tr>\n",
       "    <tr>\n",
       "      <th>11</th>\n",
       "      <td>73</td>\n",
       "      <td>4</td>\n",
       "      <td>440</td>\n",
       "      <td>1</td>\n",
       "      <td>1</td>\n",
       "      <td>1526.0</td>\n",
       "    </tr>\n",
       "  </tbody>\n",
       "</table>\n",
       "</div>"
      ],
      "text/plain": [
       "         Customer ID  Frequency  Recency  R  M  Monetary\n",
       "RMScore                                                 \n",
       "22                73          8       59  2  2    6711.0\n",
       "21                 9          7      425  1  2    8564.0\n",
       "12               254          6       70  2  1    1902.0\n",
       "11                73          4      440  1  1    1526.0"
      ]
     },
     "execution_count": 13,
     "metadata": {},
     "output_type": "execute_result"
    }
   ],
   "source": [
    "# To do the 2 x 2 matrix we will only use Recency & Monetary\n",
    "df_RFM['RMScore'] = df_RFM.M.map(str) + df_RFM.R.map(str)\n",
    "\n",
    "df_RFM = df_RFM.reset_index()\n",
    "df_RFM_SUM = df_RFM.groupby('RMScore').agg({'Customer ID': lambda y: len(y.unique()),\n",
    "                                        'Frequency': lambda y: round(y.mean(),0),\n",
    "                                        'Recency': lambda y: round(y.mean(),0),\n",
    "                                        'R': lambda y: round(y.mean(),0),\n",
    "                                        'M': lambda y: round(y.mean(),0),\n",
    "                                        'Monetary': lambda y: round(y.mean(),0)})\n",
    "df_RFM_SUM = df_RFM_SUM.sort_values('RMScore', ascending=False)\n",
    "df_RFM_SUM.head()"
   ]
  },
  {
   "cell_type": "markdown",
   "metadata": {},
   "source": [
    "# 5. Visualize the Value Matrix and explore some key numbers"
   ]
  },
  {
   "cell_type": "code",
   "execution_count": 18,
   "metadata": {
    "ExecuteTime": {
     "end_time": "2020-08-11T19:34:48.226849Z",
     "start_time": "2020-08-11T19:34:48.193737Z"
    }
   },
   "outputs": [
    {
     "name": "stdout",
     "output_type": "stream",
     "text": [
      "$$\n"
     ]
    },
    {
     "data": {
      "text/html": [
       "<div>\n",
       "<style scoped>\n",
       "    .dataframe tbody tr th:only-of-type {\n",
       "        vertical-align: middle;\n",
       "    }\n",
       "\n",
       "    .dataframe tbody tr th {\n",
       "        vertical-align: top;\n",
       "    }\n",
       "\n",
       "    .dataframe thead th {\n",
       "        text-align: right;\n",
       "    }\n",
       "</style>\n",
       "<table border=\"1\" class=\"dataframe\">\n",
       "  <thead>\n",
       "    <tr style=\"text-align: right;\">\n",
       "      <th>R</th>\n",
       "      <th>1</th>\n",
       "      <th>2</th>\n",
       "    </tr>\n",
       "    <tr>\n",
       "      <th>M</th>\n",
       "      <th></th>\n",
       "      <th></th>\n",
       "    </tr>\n",
       "  </thead>\n",
       "  <tbody>\n",
       "    <tr>\n",
       "      <th>2</th>\n",
       "      <td>8564.0</td>\n",
       "      <td>6711.0</td>\n",
       "    </tr>\n",
       "    <tr>\n",
       "      <th>1</th>\n",
       "      <td>1526.0</td>\n",
       "      <td>1902.0</td>\n",
       "    </tr>\n",
       "  </tbody>\n",
       "</table>\n",
       "</div>"
      ],
      "text/plain": [
       "R       1       2\n",
       "M                \n",
       "2  8564.0  6711.0\n",
       "1  1526.0  1902.0"
      ]
     },
     "metadata": {},
     "output_type": "display_data"
    },
    {
     "name": "stdout",
     "output_type": "stream",
     "text": [
      "Number of Customers\n"
     ]
    },
    {
     "data": {
      "text/html": [
       "<div>\n",
       "<style scoped>\n",
       "    .dataframe tbody tr th:only-of-type {\n",
       "        vertical-align: middle;\n",
       "    }\n",
       "\n",
       "    .dataframe tbody tr th {\n",
       "        vertical-align: top;\n",
       "    }\n",
       "\n",
       "    .dataframe thead th {\n",
       "        text-align: right;\n",
       "    }\n",
       "</style>\n",
       "<table border=\"1\" class=\"dataframe\">\n",
       "  <thead>\n",
       "    <tr style=\"text-align: right;\">\n",
       "      <th>R</th>\n",
       "      <th>1</th>\n",
       "      <th>2</th>\n",
       "    </tr>\n",
       "    <tr>\n",
       "      <th>M</th>\n",
       "      <th></th>\n",
       "      <th></th>\n",
       "    </tr>\n",
       "  </thead>\n",
       "  <tbody>\n",
       "    <tr>\n",
       "      <th>2</th>\n",
       "      <td>9</td>\n",
       "      <td>73</td>\n",
       "    </tr>\n",
       "    <tr>\n",
       "      <th>1</th>\n",
       "      <td>73</td>\n",
       "      <td>254</td>\n",
       "    </tr>\n",
       "  </tbody>\n",
       "</table>\n",
       "</div>"
      ],
      "text/plain": [
       "R   1    2\n",
       "M         \n",
       "2   9   73\n",
       "1  73  254"
      ]
     },
     "metadata": {},
     "output_type": "display_data"
    },
    {
     "name": "stdout",
     "output_type": "stream",
     "text": [
      "Recency\n"
     ]
    },
    {
     "data": {
      "text/html": [
       "<div>\n",
       "<style scoped>\n",
       "    .dataframe tbody tr th:only-of-type {\n",
       "        vertical-align: middle;\n",
       "    }\n",
       "\n",
       "    .dataframe tbody tr th {\n",
       "        vertical-align: top;\n",
       "    }\n",
       "\n",
       "    .dataframe thead th {\n",
       "        text-align: right;\n",
       "    }\n",
       "</style>\n",
       "<table border=\"1\" class=\"dataframe\">\n",
       "  <thead>\n",
       "    <tr style=\"text-align: right;\">\n",
       "      <th>R</th>\n",
       "      <th>1</th>\n",
       "      <th>2</th>\n",
       "    </tr>\n",
       "    <tr>\n",
       "      <th>M</th>\n",
       "      <th></th>\n",
       "      <th></th>\n",
       "    </tr>\n",
       "  </thead>\n",
       "  <tbody>\n",
       "    <tr>\n",
       "      <th>2</th>\n",
       "      <td>425</td>\n",
       "      <td>59</td>\n",
       "    </tr>\n",
       "    <tr>\n",
       "      <th>1</th>\n",
       "      <td>440</td>\n",
       "      <td>70</td>\n",
       "    </tr>\n",
       "  </tbody>\n",
       "</table>\n",
       "</div>"
      ],
      "text/plain": [
       "R    1   2\n",
       "M         \n",
       "2  425  59\n",
       "1  440  70"
      ]
     },
     "metadata": {},
     "output_type": "display_data"
    }
   ],
   "source": [
    "# 1) Average Monetary Matrix\n",
    "df_RFM_M = df_RFM_SUM.pivot(index='M', columns='R', values='Monetary')\n",
    "df_RFM_M= df_RFM_M.reset_index().sort_values(['M'], ascending = False).set_index(['M'])\n",
    "print('$$')\n",
    "display(df_RFM_M)\n",
    "\n",
    "\n",
    "# 2) Number of Customer Matrix\n",
    "df_RFM_C = df_RFM_SUM.pivot(index='M', columns='R', values='Customer ID')\n",
    "df_RFM_C= df_RFM_C.reset_index().sort_values(['M'], ascending = False).set_index(['M'])\n",
    "print('Number of Customers')\n",
    "display(df_RFM_C)\n",
    "\n",
    "# 3) Recency Matrix\n",
    "df_RFM_R = df_RFM_SUM.pivot(index='M', columns='R', values='Recency')\n",
    "df_RFM_R= df_RFM_R.reset_index().sort_values(['M'], ascending = False).set_index(['M'])\n",
    "print('Recency')\n",
    "display(df_RFM_R)"
   ]
  },
  {
   "cell_type": "markdown",
   "metadata": {},
   "source": [
    "### Takeaways\n",
    "- There are few customers in the \"disengaged\" bucket (top left matrix). Since there are a few of them, it should be easy to partner with the business to understand what happened at the customer level. Based on the analysis, there might be a simple quick win. \n",
    "- The avg. last order from the \"Light\" bucket i.e. bottom left matrix, is very old (more than a year, vs. 60-70 days for 'engaged' customers). Launching a simple reactivation campaign with a coupon might be an initiative that could lead to some new orders and help some of these customers move to the \"New\" bucket i.e. bottom right. "
   ]
  },
  {
   "cell_type": "code",
   "execution_count": null,
   "metadata": {},
   "outputs": [],
   "source": []
  }
 ],
 "metadata": {
  "kernelspec": {
   "display_name": "Python 3",
   "language": "python",
   "name": "python3"
  },
  "language_info": {
   "codemirror_mode": {
    "name": "ipython",
    "version": 3
   },
   "file_extension": ".py",
   "mimetype": "text/x-python",
   "name": "python",
   "nbconvert_exporter": "python",
   "pygments_lexer": "ipython3",
   "version": "3.7.6"
  }
 },
 "nbformat": 4,
 "nbformat_minor": 4
}
